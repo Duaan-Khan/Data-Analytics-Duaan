{
 "cells": [
  {
   "cell_type": "code",
   "execution_count": 1,
   "id": "8472ae49-2f76-40c5-bca8-8cdd2d2aa454",
   "metadata": {},
   "outputs": [
    {
     "name": "stdout",
     "output_type": "stream",
     "text": [
      "Charging the electric vehicle.\n",
      "Filling up the gasoline tank.\n",
      "Driving the hybrid car.\n"
     ]
    }
   ],
   "source": [
    "# Question 1\n",
    "class ElectricVehicle:\n",
    "    def charge(self):\n",
    "        print(\"Charging the electric vehicle.\")\n",
    "\n",
    "class GasolineVehicle:\n",
    "    def fuel_up(self):\n",
    "        print(\"Filling up the gasoline tank.\")\n",
    "\n",
    "class HybridCar(ElectricVehicle, GasolineVehicle):\n",
    "    def drive(self):\n",
    "        print(\"Driving the hybrid car.\")\n",
    "\n",
    "hybrid_car = HybridCar()\n",
    "hybrid_car.charge()\n",
    "hybrid_car.fuel_up()\n",
    "hybrid_car.drive()"
   ]
  },
  {
   "cell_type": "code",
   "execution_count": null,
   "id": "a175ed04-7951-482b-9cb2-ab65e8fb0337",
   "metadata": {},
   "outputs": [],
   "source": [
    "# Question 2\n",
    "class Animal:\n",
    "    def make_sound(self):\n",
    "        print(\"Animal makes a sound.\")\n",
    "\n",
    "class Lion(Animal):\n",
    "    def make_sound(self):\n",
    "        print(\"Roar\")\n",
    "\n",
    "class Cat(Animal):\n",
    "    def make_sound(self):\n",
    "        print(\"Meow\")\n",
    "\n",
    "lion = Lion()\n",
    "cat = Cat()\n",
    "lion.make_sound()\n",
    "cat.make_sound()"
   ]
  },
  {
   "cell_type": "code",
   "execution_count": null,
   "id": "761477c3-a642-47e4-b532-f6febcba7da3",
   "metadata": {},
   "outputs": [],
   "source": []
  },
  {
   "cell_type": "code",
   "execution_count": null,
   "id": "aa31d7cd-30d0-41b9-b7f3-aebd271c2de2",
   "metadata": {},
   "outputs": [],
   "source": []
  },
  {
   "cell_type": "code",
   "execution_count": null,
   "id": "c57b26f1-7490-4fd0-a5cc-6a0642e5bdd8",
   "metadata": {},
   "outputs": [],
   "source": []
  },
  {
   "cell_type": "code",
   "execution_count": null,
   "id": "13aaba83-4299-4a23-bd9f-01484ec80bb4",
   "metadata": {},
   "outputs": [],
   "source": []
  }
 ],
 "metadata": {
  "kernelspec": {
   "display_name": "Python 3 (ipykernel)",
   "language": "python",
   "name": "python3"
  },
  "language_info": {
   "codemirror_mode": {
    "name": "ipython",
    "version": 3
   },
   "file_extension": ".py",
   "mimetype": "text/x-python",
   "name": "python",
   "nbconvert_exporter": "python",
   "pygments_lexer": "ipython3",
   "version": "3.12.7"
  }
 },
 "nbformat": 4,
 "nbformat_minor": 5
}
