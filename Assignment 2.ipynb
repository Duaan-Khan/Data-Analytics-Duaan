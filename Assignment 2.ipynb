{
 "cells": [
  {
   "cell_type": "code",
   "execution_count": 8,
   "id": "ede2d113-ab0d-430a-8ea7-cfa6d4d5d36f",
   "metadata": {},
   "outputs": [
    {
     "name": "stdin",
     "output_type": "stream",
     "text": [
      "Please Enter Your Age:  23\n"
     ]
    },
    {
     "name": "stdout",
     "output_type": "stream",
     "text": [
      "adult\n"
     ]
    }
   ],
   "source": [
    "#Question 1: Age Group Classification\n",
    "age = int(input('Please Enter Your Age: '))\n",
    "if age <= 12:\n",
    "    print('child')\n",
    "elif age <19:\n",
    "    print('teenager')\n",
    "elif age <= 64:\n",
    "    print('adult')\n",
    "else:\n",
    "    print('senior citizen')\n"
   ]
  },
  {
   "cell_type": "code",
   "execution_count": 20,
   "id": "2849333c-ab19-4d93-9f90-0f1e6c2f8afb",
   "metadata": {},
   "outputs": [
    {
     "name": "stdin",
     "output_type": "stream",
     "text": [
      "Enter membership status:  regular\n",
      "Enter purchase amount:  2500\n"
     ]
    },
    {
     "name": "stdout",
     "output_type": "stream",
     "text": [
      "Eligible for Discount\n"
     ]
    }
   ],
   "source": [
    "#Question 2: Checking for Eligibility for Discount\n",
    "membership_status = input('Enter membership status: ')\n",
    "purchase_amount = int(input('Enter purchase amount: '))\n",
    "if membership_status == 'premium' and purchase_amount >= 1000:\n",
    "    print('Eligible for Discount')\n",
    "elif membership_status == 'regular'and purchase_amount >= 2000:\n",
    "    print('Eligible for Discount')\n",
    "else:\n",
    "    print('Not Eligible for Discount')\n",
    "    \n"
   ]
  },
  {
   "cell_type": "code",
   "execution_count": 22,
   "id": "d818a2aa-93fa-474f-acf4-7a43994a4a96",
   "metadata": {},
   "outputs": [
    {
     "name": "stdin",
     "output_type": "stream",
     "text": [
      "your age:  22\n",
      "your citizenship status citizen/non-citizen:  citizen\n"
     ]
    },
    {
     "name": "stdout",
     "output_type": "stream",
     "text": [
      "Eligible to Vote\n"
     ]
    }
   ],
   "source": [
    "#Question 3: Voting Eligibility Check\n",
    "age = int(input('your age: '))\n",
    "citizenship_status = (input('your citizenship status citizen/non-citizen: '))\n",
    "if age >= 18 and citizenship_status == 'citizen':\n",
    "    print('Eligible to Vote')\n",
    "elif age >= 16 and citizenship_status == 'non-citizen':\n",
    "    print('Eligible to Vote')\n",
    "else:\n",
    "    print('Not Eligible to Vote')"
   ]
  },
  {
   "cell_type": "code",
   "execution_count": 30,
   "id": "30ea377d-5526-49ab-b0ec-e8bc76f2c76c",
   "metadata": {},
   "outputs": [
    {
     "name": "stdin",
     "output_type": "stream",
     "text": [
      "employee performance:  excellent\n",
      "year of service:  4\n"
     ]
    },
    {
     "name": "stdout",
     "output_type": "stream",
     "text": [
      "Not Eligible for Bonus\n"
     ]
    }
   ],
   "source": [
    "#Question 4: Employee Salary Bonus Eligibility\n",
    "x = input('employee performance: ')\n",
    "y = int(input('year of service: '))\n",
    "if x == 'Excellent' and y >= 5:\n",
    "    print('Eligible for Bonus')\n",
    "elif x == 'Good' and y >= 10:\n",
    "    print('Eligible for Bonus')\n",
    "elif x == 'Satisfactory' or y >= 15:\n",
    "    print('Eligible for Bonus')\n",
    "else:\n",
    "    print('Not Eligible for Bonus')"
   ]
  },
  {
   "cell_type": "code",
   "execution_count": 33,
   "id": "f851b51e-a334-4486-939c-464ba3d6baa5",
   "metadata": {},
   "outputs": [],
   "source": [
    "#Question 5.\n",
    "z = \"I'm Learning Python Programming\"\n",
    "\n"
   ]
  },
  {
   "cell_type": "code",
   "execution_count": 34,
   "id": "508119c9-002a-435e-950d-f883c5d9e405",
   "metadata": {},
   "outputs": [
    {
     "data": {
      "text/plain": [
       "\"I'm Learning Python Programming\""
      ]
     },
     "execution_count": 34,
     "metadata": {},
     "output_type": "execute_result"
    }
   ],
   "source": [
    "z"
   ]
  },
  {
   "cell_type": "code",
   "execution_count": 38,
   "id": "353bdfc8-0e53-4774-bb43-8d73005154b9",
   "metadata": {},
   "outputs": [],
   "source": [
    "z1 = z.replace(\" \", \"_\")"
   ]
  },
  {
   "cell_type": "code",
   "execution_count": 39,
   "id": "09b13ca3-4ad8-4f12-9b04-6d967bd3f79c",
   "metadata": {},
   "outputs": [
    {
     "data": {
      "text/plain": [
       "\"I'm_Learning_Python_Programming\""
      ]
     },
     "execution_count": 39,
     "metadata": {},
     "output_type": "execute_result"
    }
   ],
   "source": [
    "z1"
   ]
  },
  {
   "cell_type": "code",
   "execution_count": 40,
   "id": "bd8ae8bb-f730-4cc2-948e-ebad90dbdf10",
   "metadata": {},
   "outputs": [],
   "source": [
    "count = z1.count(\"_\")\n",
    "count_underscore = z1.find(\"_\")"
   ]
  },
  {
   "cell_type": "code",
   "execution_count": 41,
   "id": "146a4cb7-292e-4106-88b3-c87cd82450fc",
   "metadata": {},
   "outputs": [
    {
     "data": {
      "text/plain": [
       "3"
      ]
     },
     "execution_count": 41,
     "metadata": {},
     "output_type": "execute_result"
    }
   ],
   "source": [
    "count"
   ]
  },
  {
   "cell_type": "code",
   "execution_count": 42,
   "id": "d1859b50-ca94-4e1a-9bbc-1ca1fa59cb89",
   "metadata": {},
   "outputs": [
    {
     "data": {
      "text/plain": [
       "3"
      ]
     },
     "execution_count": 42,
     "metadata": {},
     "output_type": "execute_result"
    }
   ],
   "source": [
    "count_underscore"
   ]
  },
  {
   "cell_type": "code",
   "execution_count": 44,
   "id": "2b4f1140-c304-4596-b7aa-8be7da980c77",
   "metadata": {},
   "outputs": [
    {
     "name": "stdin",
     "output_type": "stream",
     "text": [
      "Enter a string:  hello world\n"
     ]
    },
    {
     "name": "stdout",
     "output_type": "stream",
     "text": [
      "All characters except the last 3: hello wo\n",
      "Every second character: hlowrd\n",
      "String in reverse: dlrow olleh\n"
     ]
    }
   ],
   "source": [
    "#Question 6:\n",
    "# Take input from the user\n",
    "input_string = input(\"Enter a string: \")\n",
    "\n",
    "# Print all characters except the last 3 using slicing\n",
    "print(\"All characters except the last 3:\", input_string[:-3])\n",
    "\n",
    "# Print every second character of the string using slicing\n",
    "print(\"Every second character:\", input_string[::2])\n",
    "\n",
    "# Print the string in reverse using slicing\n",
    "print(\"String in reverse:\", input_string[::-1])"
   ]
  },
  {
   "cell_type": "code",
   "execution_count": 48,
   "id": "efc0ddaf-fc40-4e61-8d58-a34f08186610",
   "metadata": {},
   "outputs": [
    {
     "name": "stdout",
     "output_type": "stream",
     "text": [
      "Reversed sentence: Python learning are We World, Hello\n"
     ]
    }
   ],
   "source": [
    "#Question 7:\n",
    "# Given sentence\n",
    "sentence = \"Hello World, We are learning Python\"\n",
    "\n",
    "# Split the sentence into words\n",
    "words = sentence.split()\n",
    "\n",
    "# Reverse the order of the words\n",
    "reversed_sentence = ' '.join(reversed(words))\n",
    "\n",
    "# Print the sentence with the words in reverse order\n",
    "print(\"Reversed sentence:\", reversed_sentence)\n",
    "\n"
   ]
  },
  {
   "cell_type": "code",
   "execution_count": 49,
   "id": "59476227-b5ef-465a-b8fe-ba0b85d3b6d8",
   "metadata": {},
   "outputs": [
    {
     "name": "stdout",
     "output_type": "stream",
     "text": [
      "Extracted number: 12345\n"
     ]
    }
   ],
   "source": [
    "#Question 8.\n",
    "# Given product code\n",
    "product_code = \"SKU-12345-XYZ\"\n",
    "\n",
    "# Remove \"SKU-\" and \"-XYZ\" to extract the number\n",
    "product_number = product_code.replace(\"SKU-\", \"\").replace(\"-XYZ\", \"\")\n",
    "\n",
    "# Print the extracted number\n",
    "print(\"Extracted number:\", product_number)\n"
   ]
  },
  {
   "cell_type": "code",
   "execution_count": 51,
   "id": "41a370ed-7028-44c1-8765-77c19a7731f2",
   "metadata": {},
   "outputs": [
    {
     "name": "stdin",
     "output_type": "stream",
     "text": [
      "Enter a sentence:  i love programming\n"
     ]
    },
    {
     "name": "stdout",
     "output_type": "stream",
     "text": [
      "The longest word is: programming\n"
     ]
    }
   ],
   "source": [
    "#Question 10.Find the Longest Word\n",
    "# Function to find the longest word in a string\n",
    "def find_longest_word(sentence):\n",
    "    words = sentence.split()  # Split the sentence into words\n",
    "    longest_word = max(words, key=len)  # Find the word with the maximum length\n",
    "    return longest_word\n",
    "\n",
    "# Input sentence from the user\n",
    "sentence = input(\"Enter a sentence: \")\n",
    "\n",
    "# Find and print the longest word\n",
    "longest_word = find_longest_word(sentence)\n",
    "print(\"The longest word is:\", longest_word)\n",
    "\n"
   ]
  },
  {
   "cell_type": "code",
   "execution_count": null,
   "id": "680f88db-e4c6-483c-b69b-f5a07e14aab2",
   "metadata": {},
   "outputs": [],
   "source": []
  }
 ],
 "metadata": {
  "kernelspec": {
   "display_name": "Python 3 (ipykernel)",
   "language": "python",
   "name": "python3"
  },
  "language_info": {
   "codemirror_mode": {
    "name": "ipython",
    "version": 3
   },
   "file_extension": ".py",
   "mimetype": "text/x-python",
   "name": "python",
   "nbconvert_exporter": "python",
   "pygments_lexer": "ipython3",
   "version": "3.12.7"
  }
 },
 "nbformat": 4,
 "nbformat_minor": 5
}
