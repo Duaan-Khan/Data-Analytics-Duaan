{
 "cells": [
  {
   "cell_type": "code",
   "execution_count": 3,
   "id": "364ad54e-90c7-4f61-89f9-5b299453eff0",
   "metadata": {},
   "outputs": [
    {
     "name": "stdin",
     "output_type": "stream",
     "text": [
      "Enter Your Age:  18\n",
      "Enter Your credit score:  750\n",
      "Enter Your income:  25000\n"
     ]
    },
    {
     "name": "stdout",
     "output_type": "stream",
     "text": [
      "Eligible for Loan\n"
     ]
    }
   ],
   "source": [
    "#Q1. Write program to check a person’s eligibility for a loan based on age, credit score, and income.\n",
    "age = int(input('Enter Your Age: '))\n",
    "credit = int(input('Enter Your credit score: '))\n",
    "income = int(input('Enter Your income: '))\n",
    "\n",
    "if age >= 18:\n",
    "    print('Eligible for Loan')\n",
    "elif credit >= 650:\n",
    "    print('Eligible for Loan')\n",
    "elif income >=30000:\n",
    "    print('Eligible for Loan')\n",
    "elif credit >=700 and income >=25000:\n",
    "    print('Eligible for Loan')\n",
    "else:\n",
    "    print('Not Eligible for Loan')\n",
    "\n",
    "\n",
    "\n"
   ]
  },
  {
   "cell_type": "code",
   "execution_count": 17,
   "id": "5af7b30c-505c-4e5e-99e5-670dc0b9f7c8",
   "metadata": {},
   "outputs": [
    {
     "name": "stdin",
     "output_type": "stream",
     "text": [
      "Enter Your Age:  18\n",
      "Enter Your Experience Years:  9\n"
     ]
    },
    {
     "name": "stdout",
     "output_type": "stream",
     "text": [
      "You have moderate experience\n"
     ]
    }
   ],
   "source": [
    "#Q2. Write a Python program that checks if a person is an adult (age ≥ 18).\n",
    "age = int(input('Enter Your Age: '))\n",
    "if age < 18:\n",
    "    print('You Are Underage')\n",
    "else:\n",
    "    experience = int(input('Enter Your Experience Years: '))\n",
    "    \n",
    "    if experience >= 10:\n",
    "        print('You have a lot of experience')\n",
    "    elif 5 <= experience <= 9:\n",
    "        print('You have moderate experience')\n",
    "    elif 2 <= experience <= 4:\n",
    "        print('You are relatively new')\n",
    "    else:\n",
    "        print('You Are Just Starting Out')"
   ]
  },
  {
   "cell_type": "code",
   "execution_count": 34,
   "id": "8fd27208-5b2b-464c-807f-36cb1bb2265f",
   "metadata": {},
   "outputs": [
    {
     "name": "stdout",
     "output_type": "stream",
     "text": [
      "3021826604352\n",
      "3021826604352\n"
     ]
    }
   ],
   "source": [
    "#Q3. Write a program to explore below variables\n",
    "#(A)\n",
    "a = [2, 3, 0.1, 5, 'Duaan']\n",
    "b = [2, 3, 0.1, 5, 'Duaan']\n",
    "b = a\n",
    "print (id(a))\n",
    "print (id(b))"
   ]
  },
  {
   "cell_type": "code",
   "execution_count": 27,
   "id": "3a350c59-3e95-41cc-a908-1475350a97ff",
   "metadata": {},
   "outputs": [],
   "source": [
    "import sys"
   ]
  },
  {
   "cell_type": "code",
   "execution_count": 37,
   "id": "d11db1b0-55b6-4689-9ae0-7b558c72d98b",
   "metadata": {},
   "outputs": [
    {
     "data": {
      "text/plain": [
       "104"
      ]
     },
     "execution_count": 37,
     "metadata": {},
     "output_type": "execute_result"
    }
   ],
   "source": [
    "#(B)\n",
    "sys.getsizeof(a)"
   ]
  },
  {
   "cell_type": "code",
   "execution_count": 38,
   "id": "58975676-7c76-44d4-8c6b-24769291262b",
   "metadata": {},
   "outputs": [],
   "source": [
    "a.append(104)"
   ]
  },
  {
   "cell_type": "code",
   "execution_count": 39,
   "id": "505427b8-a022-4df5-8c10-1ed5917da9e3",
   "metadata": {},
   "outputs": [
    {
     "data": {
      "text/plain": [
       "[2, 3, 0.1, 5, 'Duaan', 104]"
      ]
     },
     "execution_count": 39,
     "metadata": {},
     "output_type": "execute_result"
    }
   ],
   "source": [
    "a"
   ]
  },
  {
   "cell_type": "code",
   "execution_count": 44,
   "id": "860127d6-e77e-4684-9d41-2ee3387ef835",
   "metadata": {},
   "outputs": [
    {
     "name": "stdin",
     "output_type": "stream",
     "text": [
      "Enter Your Email Address:  moh\n"
     ]
    },
    {
     "name": "stdout",
     "output_type": "stream",
     "text": [
      "Invalid Email Format\n"
     ]
    }
   ],
   "source": [
    "# question:4 \n",
    "email = input('Enter Your Email Address: ')\n",
    "if ('@' or '.') in email:\n",
    "    print('Email Format is Valid')\n",
    "else:\n",
    "    print('Invalid Email Format')"
   ]
  },
  {
   "cell_type": "code",
   "execution_count": 60,
   "id": "a17f3c49-29c7-4945-a4f4-b6fec23463d2",
   "metadata": {},
   "outputs": [
    {
     "name": "stdout",
     "output_type": "stream",
     "text": [
      "[<class 'int'>, <class 'float'>, <class 'str'>, <class 'list'>, <class 'tuple'>]\n"
     ]
    }
   ],
   "source": [
    "# question 5\n",
    "x = (11,22.333, 'Apple', [1,2,3], ('a', 'b'))\n",
    "\n",
    "data_types = []\n",
    "for element in x:\n",
    "    data_types.append(type(element))\n",
    "print(data_types)\n"
   ]
  },
  {
   "cell_type": "code",
   "execution_count": 61,
   "id": "5fd52677-cef1-4b3f-9cd8-afe67614c954",
   "metadata": {},
   "outputs": [
    {
     "name": "stdin",
     "output_type": "stream",
     "text": [
      "Enter the username to check:  alice\n"
     ]
    },
    {
     "name": "stdout",
     "output_type": "stream",
     "text": [
      "alice exists in the list.\n",
      "alice is the admin.\n"
     ]
    }
   ],
   "source": [
    "#Q6. Write a Python program that:\n",
    "\n",
    "users = [(\"alice\", \"admin\"), (\"bob\", \"user\"), (\"charlie\", \"moderator\")]\n",
    "\n",
    "username_to_check = input(\"Enter the username to check: \")\n",
    "\n",
    "if any(username_to_check == user[0] for user in users):\n",
    "    print(f\"{username_to_check} exists in the list.\")\n",
    "    \n",
    "   \n",
    "    user_tuple = next(user for user in users if user[0] == username_to_check)\n",
    "    \n",
    "  \n",
    "    if user_tuple is users[0]:  \n",
    "        print(f\"{username_to_check} is the admin.\")\n",
    "    else:\n",
    "        print(f\"{username_to_check} is not the admin.\")\n",
    "else:\n",
    "    print(f\"{username_to_check} does not exist in the list.\")\n"
   ]
  },
  {
   "cell_type": "code",
   "execution_count": 62,
   "id": "f0a52302-b116-4b95-8998-cfed16749d8b",
   "metadata": {},
   "outputs": [
    {
     "name": "stdout",
     "output_type": "stream",
     "text": [
      "Person1 and Person2 are Siblings.\n",
      "Person1 and Person3 are Cousins.\n"
     ]
    }
   ],
   "source": [
    "# question 7 \n",
    "person1 = ['John', 'Mary', 'Springfield', '123']\n",
    "person2 = ['John', 'Mary', 'Springfield', '123']\n",
    "person3 = ['John', 'Mary', 'Springfield', '456']\n",
    "\n",
    "if person1 is person2:\n",
    "    print(\"Person1 and Person2 are the same individual.\")\n",
    "elif person1 == person2:\n",
    "    print(\"Person1 and Person2 are Siblings.\")\n",
    "\n",
    "if person1 is person3:\n",
    "    print(\"Person1 and Person3 are the same individual.\")\n",
    "elif person1[:3] == person3[:3] and person1[3] != person3[3]:\n",
    "    print(\"Person1 and Person3 are Cousins.\")\n"
   ]
  },
  {
   "cell_type": "code",
   "execution_count": 64,
   "id": "0f0a0ce5-1f87-4feb-ab26-f6ff5fa32b5b",
   "metadata": {},
   "outputs": [
    {
     "name": "stdin",
     "output_type": "stream",
     "text": [
      "Enter the book's title:  Duaans Documentary\n",
      "Enter the author's name:  Duaan\n",
      "Enter the year of publication:  204\n",
      "Enter the price of the book:  2000\n"
     ]
    },
    {
     "name": "stdout",
     "output_type": "stream",
     "text": [
      "\n",
      "Book Details:\n",
      "Title: Duaans Documentary\n",
      "Author: Duaan\n",
      "Year of Publication: 204\n",
      "Price: 2000.0\n"
     ]
    }
   ],
   "source": [
    "# question 8\n",
    "title = input(\"Enter the book's title: \")\n",
    "author = input(\"Enter the author's name: \")\n",
    "year = int(input(\"Enter the year of publication: \"))\n",
    "price = float(input(\"Enter the price of the book: \"))\n",
    "book_details = (title, author, year, price)\n",
    "print(\"\\nBook Details:\")\n",
    "print(f\"Title: {book_details[0]}\")\n",
    "print(f\"Author: {book_details[1]}\")\n",
    "print(f\"Year of Publication: {book_details[2]}\")\n",
    "print(f\"Price: {book_details[3]}\")\n"
   ]
  },
  {
   "cell_type": "code",
   "execution_count": 65,
   "id": "815fed69-5780-4064-a7ac-e591f102bf61",
   "metadata": {},
   "outputs": [
    {
     "name": "stdin",
     "output_type": "stream",
     "text": [
      "Enter the subject you want to check:  Biology\n"
     ]
    },
    {
     "name": "stdout",
     "output_type": "stream",
     "text": [
      "The subject 'Biology' is available.\n"
     ]
    }
   ],
   "source": [
    "# question 9\n",
    "offered_subjects = [\"Mathematics\", \"Physics\", \"Chemistry\", \"Biology\", \"Computer Science\"]\n",
    "chosen_subject = input(\"Enter the subject you want to check: \")\n",
    "if chosen_subject in offered_subjects:\n",
    "    print(f\"The subject '{chosen_subject}' is available.\")\n",
    "else:\n",
    "    print(f\"The subject '{chosen_subject}' is not available.\")\n"
   ]
  },
  {
   "cell_type": "code",
   "execution_count": 66,
   "id": "1b55a8e1-7fe2-4271-8dbe-c19c5eb96c8f",
   "metadata": {},
   "outputs": [
    {
     "name": "stdin",
     "output_type": "stream",
     "text": [
      "Enter a number to find its first occurrence:  20\n"
     ]
    },
    {
     "name": "stdout",
     "output_type": "stream",
     "text": [
      "The number 20 first occurs at index 1.\n"
     ]
    },
    {
     "name": "stdin",
     "output_type": "stream",
     "text": [
      "Enter another number to count its occurrences:  50\n"
     ]
    },
    {
     "name": "stdout",
     "output_type": "stream",
     "text": [
      "The number 50 appears 1 time(s) in the tuple.\n"
     ]
    }
   ],
   "source": [
    "# question 10\n",
    "numbers = (10, 20, 10, 30, 40, 20, 10, 50, 20)\n",
    "num1 = int(input(\"Enter a number to find its first occurrence: \"))\n",
    "if num1 in numbers:\n",
    "    index = numbers.index(num1)\n",
    "    print(f\"The number {num1} first occurs at index {index}.\")\n",
    "else:\n",
    "    print(f\"The number {num1} is not in the tuple.\")\n",
    "num2 = int(input(\"Enter another number to count its occurrences: \"))\n",
    "count = numbers.count(num2)\n",
    "print(f\"The number {num2} appears {count} time(s) in the tuple.\")\n"
   ]
  },
  {
   "cell_type": "code",
   "execution_count": null,
   "id": "06851113-06b3-4f08-9b67-e69f21b2100c",
   "metadata": {},
   "outputs": [],
   "source": []
  }
 ],
 "metadata": {
  "kernelspec": {
   "display_name": "Python 3 (ipykernel)",
   "language": "python",
   "name": "python3"
  },
  "language_info": {
   "codemirror_mode": {
    "name": "ipython",
    "version": 3
   },
   "file_extension": ".py",
   "mimetype": "text/x-python",
   "name": "python",
   "nbconvert_exporter": "python",
   "pygments_lexer": "ipython3",
   "version": "3.12.7"
  }
 },
 "nbformat": 4,
 "nbformat_minor": 5
}
