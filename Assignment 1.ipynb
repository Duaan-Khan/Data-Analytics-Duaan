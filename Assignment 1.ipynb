{
 "cells": [
  {
   "cell_type": "code",
   "execution_count": 1,
   "id": "59ab7522-d49d-48a3-9cbc-dc9ead92ef9e",
   "metadata": {},
   "outputs": [],
   "source": [
    "salaries = ['20k', '40k', '50k', '60k', '35k', '89k','40k']"
   ]
  },
  {
   "cell_type": "code",
   "execution_count": 2,
   "id": "1eb45923-6e89-45f1-940f-08fb05e8de12",
   "metadata": {},
   "outputs": [
    {
     "data": {
      "text/plain": [
       "7"
      ]
     },
     "execution_count": 2,
     "metadata": {},
     "output_type": "execute_result"
    }
   ],
   "source": [
    "# What is the length of the salaries list.\n",
    "len(salaries)"
   ]
  },
  {
   "cell_type": "code",
   "execution_count": 3,
   "id": "1a6b6fee-62ed-4c95-8416-ebd2e95f5ede",
   "metadata": {},
   "outputs": [
    {
     "data": {
      "text/plain": [
       "'50k'"
      ]
     },
     "execution_count": 3,
     "metadata": {},
     "output_type": "execute_result"
    }
   ],
   "source": [
    "# Retrieve the third salary in the list by using index\n",
    "salaries[2]"
   ]
  },
  {
   "cell_type": "code",
   "execution_count": 4,
   "id": "6f5a9bd5-cf7d-44e7-ada7-c576ee1ad54a",
   "metadata": {},
   "outputs": [
    {
     "data": {
      "text/plain": [
       "'40k'"
      ]
     },
     "execution_count": 4,
     "metadata": {},
     "output_type": "execute_result"
    }
   ],
   "source": [
    "# Extract the last salary from the list by using a negative index\n",
    "salaries[-1]"
   ]
  },
  {
   "cell_type": "code",
   "execution_count": 5,
   "id": "fb98919c-6aca-4d2d-a331-f58116ecef1e",
   "metadata": {},
   "outputs": [
    {
     "data": {
      "text/plain": [
       "['50k', '60k', '35k']"
      ]
     },
     "execution_count": 5,
     "metadata": {},
     "output_type": "execute_result"
    }
   ],
   "source": [
    "# Slice the salaries list to get only the middle three salaries\n",
    "salaries[2:5]"
   ]
  },
  {
   "cell_type": "code",
   "execution_count": 7,
   "id": "72450413-7c20-41e6-b703-dad97b5480ea",
   "metadata": {},
   "outputs": [],
   "source": [
    "# Add a new salary to the list, ‘100k’ by using append() method.\n",
    "salaries.append('100k')"
   ]
  },
  {
   "cell_type": "code",
   "execution_count": 8,
   "id": "49fdf3b0-127c-4fa4-86cc-ed3e543b0abd",
   "metadata": {},
   "outputs": [
    {
     "data": {
      "text/plain": [
       "['20k', '40k', '50k', '60k', '35k', '89k', '40k', '100k']"
      ]
     },
     "execution_count": 8,
     "metadata": {},
     "output_type": "execute_result"
    }
   ],
   "source": [
    "salaries"
   ]
  },
  {
   "cell_type": "code",
   "execution_count": 9,
   "id": "c1371bbb-9c54-4ca5-9e9c-c0e3ba8196c2",
   "metadata": {},
   "outputs": [],
   "source": [
    "# Add a new salary to the list, ‘120k’ without method.\n",
    "salaries = salaries + ['120k']"
   ]
  },
  {
   "cell_type": "code",
   "execution_count": 10,
   "id": "862cbd7b-af3b-46ef-b116-4bd2d4882464",
   "metadata": {},
   "outputs": [
    {
     "data": {
      "text/plain": [
       "['20k', '40k', '50k', '60k', '35k', '89k', '40k', '100k', '120k']"
      ]
     },
     "execution_count": 10,
     "metadata": {},
     "output_type": "execute_result"
    }
   ],
   "source": [
    "salaries"
   ]
  },
  {
   "cell_type": "code",
   "execution_count": 12,
   "id": "a37f52d2-140e-49c9-a101-5998c445cac2",
   "metadata": {},
   "outputs": [],
   "source": [
    "# Replace the third salary in the list with '55k' and print the updated list\n",
    "salaries[2] = '55k'"
   ]
  },
  {
   "cell_type": "code",
   "execution_count": 13,
   "id": "398970a0-cb84-4906-a832-527fdb776447",
   "metadata": {},
   "outputs": [
    {
     "data": {
      "text/plain": [
       "['20k', '40k', '55k', '60k', '35k', '89k', '40k', '100k', '120k']"
      ]
     },
     "execution_count": 13,
     "metadata": {},
     "output_type": "execute_result"
    }
   ],
   "source": [
    "salaries"
   ]
  },
  {
   "cell_type": "code",
   "execution_count": 15,
   "id": "1ff0773e-cfb2-4b24-b74a-a8e11ff8b19c",
   "metadata": {},
   "outputs": [],
   "source": [
    "# Count how many times '40k' appears in the list\n",
    "count_40k = salaries.count('40k')"
   ]
  },
  {
   "cell_type": "code",
   "execution_count": 16,
   "id": "75996b47-4711-45c0-a564-7aba0fb51b76",
   "metadata": {},
   "outputs": [
    {
     "name": "stdout",
     "output_type": "stream",
     "text": [
      "2\n"
     ]
    }
   ],
   "source": [
    "print(count_40k)"
   ]
  },
  {
   "cell_type": "code",
   "execution_count": 17,
   "id": "b038d324-441c-4066-9107-ee29c072dcdc",
   "metadata": {},
   "outputs": [],
   "source": [
    "# Insert a new salary at the second position\n",
    "salaries.insert(1, '30')"
   ]
  },
  {
   "cell_type": "code",
   "execution_count": 18,
   "id": "2a79ff28-de83-4830-9e80-f14e29bbbda0",
   "metadata": {},
   "outputs": [
    {
     "data": {
      "text/plain": [
       "['20k', '30', '40k', '55k', '60k', '35k', '89k', '40k', '100k', '120k']"
      ]
     },
     "execution_count": 18,
     "metadata": {},
     "output_type": "execute_result"
    }
   ],
   "source": [
    "salaries"
   ]
  },
  {
   "cell_type": "code",
   "execution_count": 19,
   "id": "f743a8a3-c578-4e3e-9707-5615a4e3b3a3",
   "metadata": {},
   "outputs": [],
   "source": [
    "# Reverse the order of the salaries list with method\n",
    "salaries.reverse()"
   ]
  },
  {
   "cell_type": "code",
   "execution_count": 20,
   "id": "c4be31b1-3153-49ee-95e9-8ef4c24a71ec",
   "metadata": {},
   "outputs": [
    {
     "data": {
      "text/plain": [
       "['120k', '100k', '40k', '89k', '35k', '60k', '55k', '40k', '30', '20k']"
      ]
     },
     "execution_count": 20,
     "metadata": {},
     "output_type": "execute_result"
    }
   ],
   "source": [
    "salaries"
   ]
  },
  {
   "cell_type": "code",
   "execution_count": 21,
   "id": "2866c700-d573-4ffa-91bb-42e2a23af81d",
   "metadata": {},
   "outputs": [],
   "source": [
    "# Reverse the order of the salaries list without method.\n",
    "salaries = salaries[::-1]"
   ]
  },
  {
   "cell_type": "code",
   "execution_count": 22,
   "id": "e54306f0-42db-448b-b021-93508d625d07",
   "metadata": {},
   "outputs": [
    {
     "data": {
      "text/plain": [
       "['20k', '30', '40k', '55k', '60k', '35k', '89k', '40k', '100k', '120k']"
      ]
     },
     "execution_count": 22,
     "metadata": {},
     "output_type": "execute_result"
    }
   ],
   "source": [
    "salaries"
   ]
  },
  {
   "cell_type": "code",
   "execution_count": null,
   "id": "86a46a76-f81c-4ffa-b8dc-64bc82a38631",
   "metadata": {},
   "outputs": [],
   "source": []
  }
 ],
 "metadata": {
  "kernelspec": {
   "display_name": "Python 3 (ipykernel)",
   "language": "python",
   "name": "python3"
  },
  "language_info": {
   "codemirror_mode": {
    "name": "ipython",
    "version": 3
   },
   "file_extension": ".py",
   "mimetype": "text/x-python",
   "name": "python",
   "nbconvert_exporter": "python",
   "pygments_lexer": "ipython3",
   "version": "3.12.7"
  }
 },
 "nbformat": 4,
 "nbformat_minor": 5
}
